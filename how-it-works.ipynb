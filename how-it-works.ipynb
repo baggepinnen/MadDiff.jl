{
 "cells": [
  {
   "cell_type": "markdown",
   "id": "published-cricket",
   "metadata": {},
   "source": [
    "# Off-Line Automatic Differentiation\n",
    "\n",
    "In this notebook, the *off-line automatic differentiation* idea is demonstrated."
   ]
  },
  {
   "cell_type": "code",
   "execution_count": 1,
   "id": "bacterial-origin",
   "metadata": {},
   "outputs": [
    {
     "data": {
      "text/plain": [
       "Expression"
      ]
     },
     "execution_count": 1,
     "metadata": {},
     "output_type": "execute_result"
    }
   ],
   "source": [
    "using LinearAlgebra, Printf\n",
    "import Base: +,*,^,sin,exp # we will extend these functions\n",
    "\n",
    "struct Expression\n",
    "\tfunc::Function  \n",
    "\tderiv::Function \n",
    "end\n",
    "\n",
    "Expression() = Expression(x->x, x->1.) # default constructor"
   ]
  },
  {
   "cell_type": "code",
   "execution_count": 2,
   "id": "integral-assurance",
   "metadata": {},
   "outputs": [
    {
     "data": {
      "text/plain": [
       "^ (generic function with 67 methods)"
      ]
     },
     "execution_count": 2,
     "metadata": {},
     "output_type": "execute_result"
    }
   ],
   "source": [
    "# define +,*,^\n",
    "\n",
    "+(e1::Expression,e2::Expression) = begin\n",
    "\tf1 = e1.func\n",
    "\tf2 = e2.func\n",
    "\td1 = e1.deriv\n",
    "\td2 = e2.deriv\n",
    "\t\n",
    "\treturn Expression( x->f1(x)+f2(x), x->d1(x)+d2(x) )\n",
    "end\n",
    "\n",
    "*(e1::Expression,e2::Expression) = begin\n",
    "\tf1 = e1.func\n",
    "\tf2 = e2.func\n",
    "\td1 = e1.deriv\n",
    "\td2 = e2.deriv\n",
    "    \n",
    "\treturn Expression( x->f1(x)*f2(x), x->f1(x)*d2(x)+d1(x)*f2(x) )\n",
    "end\n",
    "\n",
    "^(e::Expression,a::T) where {T <: Real} = begin\n",
    "\tf = e.func\n",
    "\td = e.deriv\n",
    "    \n",
    "\treturn Expression( x->f(x)^a, x->a*f(x)^(a-1)*d(x) )\n",
    "end"
   ]
  },
  {
   "cell_type": "code",
   "execution_count": 3,
   "id": "moved-envelope",
   "metadata": {},
   "outputs": [
    {
     "data": {
      "text/plain": [
       "exp (generic function with 15 methods)"
      ]
     },
     "execution_count": 3,
     "metadata": {},
     "output_type": "execute_result"
    }
   ],
   "source": [
    "# define sin, exp\n",
    "\n",
    "sin(e::Expression) = begin\n",
    "\tf = e.func\n",
    "\td = e.deriv\n",
    "\t\n",
    "\treturn Expression( x->sin(f(x)), x->cos(f(x))*d(x) )\n",
    "end\n",
    "\n",
    "exp(e::Expression) = begin\n",
    "\tf = e.func\n",
    "\td = e.deriv\n",
    "\t\n",
    "\treturn Expression( x->exp(f(x)), x->exp(f(x))*d(x) )\n",
    "end"
   ]
  },
  {
   "cell_type": "code",
   "execution_count": 4,
   "id": "opposite-allah",
   "metadata": {},
   "outputs": [
    {
     "name": "stdout",
     "output_type": "stream",
     "text": [
      "Error in f = 0.0\n",
      "Error in df = 0.0\n"
     ]
    }
   ],
   "source": [
    "f(x) = x*sin(x) + exp(x^2)   # user-defined function\n",
    "df(x) = sin(x) + x*cos(x) + 2*x*exp(x^2)  # hand-coded derivative\n",
    "\n",
    "ex = f(Expression())\n",
    "f_auto = ex.func # recreated user-defined function\n",
    "df_auto = ex.deriv # derivative of the user-defined function\n",
    "\n",
    "# check if the constructed func and deriv are accurate\n",
    "test_points = [-2.,-1.,0.,1.,2.]\n",
    "f_err = norm( f.(test_points) .- f_auto.(test_points) , Inf )\n",
    "df_err = norm( df.(test_points) .- df_auto.(test_points) , Inf )\n",
    "\n",
    "println(\"Error in f = $f_err\")\n",
    "println(\"Error in df = $df_err\")"
   ]
  },
  {
   "cell_type": "code",
   "execution_count": 8,
   "id": "guided-territory",
   "metadata": {},
   "outputs": [
    {
     "name": "stdout",
     "output_type": "stream",
     "text": [
      "Table: Evaluation time*1000 - make sure to run twice\n",
      "________________________________\n",
      "   |  Hand-coded | Our Method  |\n",
      "f  | 4.69685e-05 | 4.57764e-05 |\n",
      "df | 5.81741e-05 | 5.79357e-05 |\n",
      "────────────────────────────────\n"
     ]
    }
   ],
   "source": [
    "# check if the constructed func and deriv are efficient\n",
    "\n",
    "# we will use this a benchmark function\n",
    "benchmark(f,arg...) = begin\n",
    "    return -time() + begin\n",
    "        for i=1:1000\n",
    "            f(arg...)\n",
    "        end\n",
    "        time()\n",
    "    end \n",
    "end\n",
    "\n",
    "tf = benchmark(f,1.)\n",
    "tf_auto = benchmark(f_auto,1.)\n",
    "\n",
    "tdf = benchmark(df,1.)\n",
    "tdf_auto = benchmark(df_auto,1.)\n",
    "\n",
    "println(\"Table: Evaluation time*1000 - make sure to run twice\")\n",
    "println(\"________________________________\")\n",
    "println(\"   |  Hand-coded | Our Method  |\")\n",
    "@printf(\"f  | %7.5e | %7.5e |\\n\",tf,tf_auto)\n",
    "@printf(\"df | %7.5e | %7.5e |\\n\",tdf,tdf_auto)\n",
    "println(\"────────────────────────────────\")"
   ]
  }
 ],
 "metadata": {
  "kernelspec": {
   "display_name": "Julia 1.5.3",
   "language": "julia",
   "name": "julia-1.5"
  },
  "language_info": {
   "file_extension": ".jl",
   "mimetype": "application/julia",
   "name": "julia",
   "version": "1.5.3"
  }
 },
 "nbformat": 4,
 "nbformat_minor": 5
}
